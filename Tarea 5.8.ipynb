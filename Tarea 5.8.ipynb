{
 "cells": [
  {
   "cell_type": "markdown",
   "id": "177fa7e9",
   "metadata": {},
   "source": [
    "# Tarea 5.8"
   ]
  },
  {
   "cell_type": "markdown",
   "id": "de03e2fa",
   "metadata": {},
   "source": [
    "### Fabricio Vásquez Bustamante 17.993.938-K"
   ]
  },
  {
   "cell_type": "markdown",
   "id": "3e183d8f",
   "metadata": {},
   "source": [
    "Problema 3.3 del libro \"Statistics - A guide to the use of statistical methods in the physical sciences\", de R. J. Barlow, Wiley, 1989."
   ]
  },
  {
   "cell_type": "markdown",
   "id": "656996ff",
   "metadata": {},
   "source": [
    "Durante una lluvia de meteoritos se observan 15.7 estrellas fugaces cada hora en promedio. Grafique la distribución de probabilidad de observar n estrellas fugaces en media hora."
   ]
  },
  {
   "cell_type": "code",
   "execution_count": 33,
   "id": "7b7aa654",
   "metadata": {},
   "outputs": [
    {
     "name": "stdout",
     "output_type": "stream",
     "text": [
      "Ingrese el rango máximo de de estrellas que desea observar\n",
      "r=21\n",
      "La distribución de probabilidad de observar 21 estrellas fugaces en media hora es la siguiente:\n"
     ]
    },
    {
     "data": {
      "image/png": "[encoded data removed]",
      "text/plain": [
       "<Figure size 432x288 with 1 Axes>"
      ]
     },
     "metadata": {
      "needs_background": "light"
     },
     "output_type": "display_data"
    },
    {
     "name": "stdout",
     "output_type": "stream",
     "text": [
      "Es más probable ver 9 estrellas en media hora. Esta probabilidad es de un 13.504147847265951 %.\n"
     ]
    }
   ],
   "source": [
    "import matplotlib.pyplot as plt                                 #Importamos Librertías.\n",
    "import numpy as np\n",
    "\n",
    "def poisson(n, lamda):                                          #Definimos la función de Poisson que nos dará la probabilidad de\n",
    "    return lamda**n*np.exp(-lamda)/np.math.factorial(n)         #observar n estrellas en media hora, dada la probabilidad de que\n",
    "                                                                #se observen en promedio 15.7/2 estrellas cada media hora.\n",
    "\n",
    "print('Ingrese el rango máximo de de estrellas que desea observar')   #Se le solicita al usuario un número máximo de estrellas\n",
    "r=int(input(\"r=\"))                                                    #a observar.\n",
    "\n",
    "n=np.arange(0,r+1,1)                                            #Creamos un arreglo desde 0 a \"n\" estrellas a observar.\n",
    "p=np.array([poisson(n, 17.5/2)for n in range(r+1)])             #Creamos otro arreglo con las probabilidades de observar la\n",
    "                                                                #cantidad de n estrellas del arreglo antenrior \n",
    "print('La distribución de probabilidad de observar', r, 'estrellas fugaces en media hora es la siguiente:')\n",
    "\n",
    "plt.bar(n, p, label='Probabilidad de ver \"N\" estrellas en media hora')         #Graficamos los datos.\n",
    "plt.title('Distribución de Poisson para obserbar N estrellas en media hora')\n",
    "plt.xlabel('Cantidad N de estrellas observables en media hora')\n",
    "plt.ylabel('Probabilidad de observar N estrellas en media hora')\n",
    "plt.legend()\n",
    "plt.show()\n",
    "\n",
    "m=0                                                             #Ciclo para encontrar el Número de estrellas con mayor                                            \n",
    "for m in range (r):                                             #probabilidad de observación.\n",
    "    if p[m]==np.amax(p):\n",
    "        break\n",
    "    m+1\n",
    "    \n",
    "print('Es más probable ver', m+1, 'estrellas en media hora. Esta probabilidad es de un', np.amax(p)*100,'%.')"
   ]
  },
  {
   "cell_type": "markdown",
   "id": "7b806d02",
   "metadata": {},
   "source": [
    "# Calificación: 6.9"
   ]
  },
  {
   "cell_type": "markdown",
   "id": "9939f752",
   "metadata": {},
   "source": [
    "Hay un error tipográfico en el código: El promedio de estrellas es 15.7, tú escribiste 17.5 en el código."
   ]
  }
 ],
 "metadata": {
  "kernelspec": {
   "display_name": "Python 3",
   "language": "python",
   "name": "python3"
  },
  "language_info": {
   "codemirror_mode": {
    "name": "ipython",
    "version": 3
   },
   "file_extension": ".py",
   "mimetype": "text/x-python",
   "name": "python",
   "nbconvert_exporter": "python",
   "pygments_lexer": "ipython3",
   "version": "3.8.5"
  }
 },
 "nbformat": 4,
 "nbformat_minor": 5
}
