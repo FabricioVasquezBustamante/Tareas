{
 "cells": [
  {
   "cell_type": "markdown",
   "id": "d413e1a0",
   "metadata": {},
   "source": [
    "# Tarea 4.6"
   ]
  },
  {
   "cell_type": "markdown",
   "id": "a49f36f1",
   "metadata": {},
   "source": [
    "### Fabricio Vásquez Bustamante 17.993.938-K"
   ]
  },
  {
   "cell_type": "markdown",
   "id": "55880c1c",
   "metadata": {},
   "source": [
    "Escriba un código que lea un archivo de texto (.txt conteniendo por ejemplo un cuento breve) y lo guarde en otro archivo de texto pero con todas las palabras en una sola línea."
   ]
  },
  {
   "cell_type": "code",
   "execution_count": 73,
   "id": "b9595f41",
   "metadata": {},
   "outputs": [
    {
     "name": "stdout",
     "output_type": "stream",
     "text": [
      "HabÃ­a una vez truz XD\n",
      "Este texto tendrÃ­a que subir\n",
      "Al parecer subiÃ³\n",
      "Fin"
     ]
    }
   ],
   "source": [
    "import os #importamos la librería que nos permite manejar archivos\n",
    "#os.getcwd()#Se usa para saber en que directorio estamos trabajando, para utilizar favor de quitar el \"#\" al comienzo de la linea.\n",
    "#os.listdir()#Se usa para saber que hay en el directorio actual, para utilizar favor de quitar el \"#\" al comienzo de la linea.\n",
    "os.chdir('C:\\\\Users\\FabricioVásquezBusta\\Documents') #Reemplazar por el directorio donde se encuentre su archivo de texto a utilizar.\n",
    "\n",
    "linea=str()                                 #En esta variable guardaremos el texto de una sola linea.\n",
    "with open('Cuento.txt', 'r') as file:       #Abrimos el archivo de texto, favor de reemplar \"Cuento.txt\" por el archivo deseado.\n",
    "    lineas=[line for line in file]              #Se crea un arreglo con todas las lineas del texto.\n",
    "    for i in range(len(lineas)):                #Se abre un ciclo que se repetirá tantas veces como lineas tenga el texto.\n",
    "        linea=linea+lineas[i]                       #Se irán agregando a la variable \"linea\" las lineas del texto.\n",
    "        print(lineas[i], end='')                    #Se irá mostrando el texto en pantalla.\n",
    "linea=linea.replace('\\n',' ')               #Se reemplazan los \"saltos de linea\" por un \"espacio\" en la variable \"linea\"\n",
    "with open('Storyinoneline.txt', 'w') as file:   #Se creea un nuevo archivo de texto llamado \"Storyinoneline\" .\n",
    "    file.write(linea)                           #Se escribe en el nuevo archivo el texto en una sola linea."
   ]
  },
  {
   "cell_type": "markdown",
   "id": "a6f2c467",
   "metadata": {},
   "source": [
    "# Calificación: 7.0"
   ]
  }
 ],
 "metadata": {
  "kernelspec": {
   "display_name": "Python 3",
   "language": "python",
   "name": "python3"
  },
  "language_info": {
   "codemirror_mode": {
    "name": "ipython",
    "version": 3
   },
   "file_extension": ".py",
   "mimetype": "text/x-python",
   "name": "python",
   "nbconvert_exporter": "python",
   "pygments_lexer": "ipython3",
   "version": "3.8.5"
  }
 },
 "nbformat": 4,
 "nbformat_minor": 5
}
