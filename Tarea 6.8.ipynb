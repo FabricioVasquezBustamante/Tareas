{
 "cells": [
  {
   "cell_type": "markdown",
   "id": "da8fe022",
   "metadata": {},
   "source": [
    "# Tarea 6.8"
   ]
  },
  {
   "cell_type": "markdown",
   "id": "2a78df92",
   "metadata": {},
   "source": [
    "### Fabricio Vásquz Bustamante 17.993.938-K"
   ]
  },
  {
   "cell_type": "markdown",
   "id": "2a7bf011",
   "metadata": {},
   "source": [
    "Busque un ejemplo de una función tal que el método de bisección con la condición $|p_n - p_{n-1}|/|p_n| < \\epsilon$ converge siempre a un valor que no es un cero de la función."
   ]
  },
  {
   "cell_type": "code",
   "execution_count": 15,
   "id": "42ba5cac",
   "metadata": {},
   "outputs": [
    {
     "name": "stdout",
     "output_type": "stream",
     "text": [
      "Se realizará el método de bisección para las funciones cos(x)^n en el intervalo [1.4, 1.7]\n",
      "\n",
      "para la función cos(x)^ 1 :\n",
      "Cero en 1.5707963266875593 encontrado después de 30 iteraciones.\n",
      "para la función cos(x)^ 2 :\n",
      "Cero en 1.6999999998603017 encontrado después de 30 iteraciones.\n",
      "para la función cos(x)^ 3 :\n",
      "Cero en 1.5707963266875593 encontrado después de 30 iteraciones.\n",
      "para la función cos(x)^ 4 :\n",
      "Cero en 1.6999999998603017 encontrado después de 30 iteraciones.\n",
      "para la función cos(x)^ 5 :\n",
      "Cero en 1.5707963266875593 encontrado después de 30 iteraciones.\n",
      "para la función cos(x)^ 6 :\n",
      "Cero en 1.6999999998603017 encontrado después de 30 iteraciones.\n",
      "\n",
      "Aparentemente el método de bisección presenta un problema con las funciones de orden par,\n",
      "dado que para estas no se llega al valor del cero al que se está forzando, el cual es x=π/2≈1.57\n",
      "\n",
      "Otro ejemplo: x^n en [-0.1, 0.2]\n",
      "para la función x^ 1 :\n",
      "Cero en -1.5473886037888366e-162 encontrado después de 588 iteraciones.\n",
      "para la función x^ 2 :\n",
      "Cero en 0.2 encontrado después de 54 iteraciones.\n",
      "para la función x^ 3 :\n",
      "Cero en -9.087090666846202e-55 encontrado después de 231 iteraciones.\n",
      "para la función x^ 4 :\n",
      "Cero en 0.2 encontrado después de 54 iteraciones.\n",
      "para la función x^ 5 :\n",
      "Cero en -3.0130104018858092e-33 encontrado después de 160 iteraciones.\n",
      "para la función x^ 6 :\n",
      "Cero en 0.2 encontrado después de 54 iteraciones.\n",
      "\n",
      "Notamos que nuevamente que se presenta un problema con las funciones pares\n",
      "dado a que estas no se acercan al valor real del 0, que es x=0\n",
      "\n",
      "El método de bisección falla para cuando se realiza la operación f(p)*f(a) > 0, esto sucede porque\n",
      "las funciones pares siempre tendrán igual signo alrededor del 0, por lo que este valor siempre será\n",
      "positivo, provocando que el algoritmo converja al intervalo máximo que se entregó\n"
     ]
    }
   ],
   "source": [
    "import numpy as np                                                      #Importamos librerías \n",
    "\n",
    "def biseccion(f, a, b, epsilon, N=1000000):          #Método de bisección con la condición dada\n",
    "\n",
    "    pp = a\n",
    "    for i in range(N):\n",
    "        p = a + (b - a)/2\n",
    "        if abs(p - pp)/abs(p) < epsilon:\n",
    "            print(\"Cero en\", p, \"encontrado después de\", i, \"iteraciones.\")\n",
    "            return p\n",
    "        elif f(p)*f(a) > 0: #Línea del codigo problematica con funciones pares\n",
    "            a = p\n",
    "        else:\n",
    "            b = p\n",
    "        pp = p\n",
    "    print(\"No se encontró el cero después de\", N, \"iteraciones.\")\n",
    "\n",
    "print('Se realizará el método de bisección para las funciones cos(x)^n en el intervalo [1.4, 1.7]\\n')\n",
    "    \n",
    "def fun(x):                 #La función cos(x) y cos^2(x) tinen los mismos ceros para los mismos x,\n",
    "    return (np.cos(x))**n   #estos son x=nπ-π/2, de hecho cualquier potencia de cos(x) tendrá estos ceros\n",
    "\n",
    "for n in range(1, 7):      #Ciclo for para evaluar varias potencias de cos(x) en el método de biseccion \n",
    "    print('para la función cos(x)^', n, ':')\n",
    "    biseccion(fun, 1.4, 1.7, 0.0000000001) #Uno de los ceros de las funciones cos^n(x) es en x=π/2≈1.57,\n",
    "                                           #por lo que tomamos un un valor inferior y superior para evaluar\n",
    "                                           #en cada potencia de la función cos(x)\n",
    "            \n",
    "print('\\nAparentemente el método de bisección presenta un problema con las funciones de orden par,')\n",
    "print('dado que para estas no se llega al valor del cero al que se está forzando, el cual es x=π/2≈1.57')\n",
    "print('\\nOtro ejemplo: x^n en [-0.1, 0.2]')\n",
    "\n",
    "def func(x):\n",
    "    return x**n\n",
    "    \n",
    "for n in range(1, 7):\n",
    "    print('para la función x^', n, ':')\n",
    "    biseccion(func, -0.1, 0.2 , 0.0000000000000001)\n",
    "    \n",
    "print('\\nNotamos que nuevamente que se presenta un problema con las funciones pares')\n",
    "print('dado a que estas no se acercan al valor real del 0, que es x=0\\n')\n",
    "\n",
    "print('El método de bisección falla para cuando se realiza la operación f(p)*f(a) > 0, esto sucede porque')\n",
    "print('las funciones pares siempre tendrán igual signo alrededor del 0, por lo que este valor siempre será')\n",
    "print('positivo, provocando que el algoritmo converja al intervalo máximo que se entregó.')"
   ]
  },
  {
   "cell_type": "code",
   "execution_count": null,
   "id": "ef5ced70",
   "metadata": {},
   "outputs": [],
   "source": []
  }
 ],
 "metadata": {
  "kernelspec": {
   "display_name": "Python 3 (ipykernel)",
   "language": "python",
   "name": "python3"
  },
  "language_info": {
   "codemirror_mode": {
    "name": "ipython",
    "version": 3
   },
   "file_extension": ".py",
   "mimetype": "text/x-python",
   "name": "python",
   "nbconvert_exporter": "python",
   "pygments_lexer": "ipython3",
   "version": "3.9.6"
  }
 },
 "nbformat": 4,
 "nbformat_minor": 5
}
