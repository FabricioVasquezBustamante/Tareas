{
 "cells": [
  {
   "cell_type": "markdown",
   "id": "57f3ca00",
   "metadata": {},
   "source": [
    "# Tarea 9.6"
   ]
  },
  {
   "cell_type": "markdown",
   "id": "60752e84",
   "metadata": {},
   "source": [
    "### Fabricio Vásquez Bustamante 17.993938-k"
   ]
  },
  {
   "cell_type": "markdown",
   "id": "efb3c7d9",
   "metadata": {},
   "source": [
    "Escriba un código que implemente una cuadratura gaussiana compuesta. Es decir, divide el rango de integración en n subintervalos y aplica una cuadratura gaussiana en cada uno"
   ]
  },
  {
   "cell_type": "code",
   "execution_count": 78,
   "id": "178d27db",
   "metadata": {},
   "outputs": [
    {
     "name": "stdout",
     "output_type": "stream",
     "text": [
      "0.9092974267804389\n"
     ]
    }
   ],
   "source": [
    "import numpy as np\n",
    "import matplotlib.pyplot as plt\n",
    "\n",
    "rangomin = 0                               #Mínimo valor para evaluar la integral.\n",
    "rangomax = 2                               #Máximo valor para evaluar la integral.\n",
    "n = 10                                     #Subintervalos.\n",
    "h = (rangomax-rangomin)/n                  #Distancia entre cada intervalo.\n",
    "x = np.arange((rangomax-rangomin)/h+1)*h\n",
    "\n",
    "def gauss_quad_5(f, a, b):                 #Cuadratura gaussiana.\n",
    "    def x(t):\n",
    "        return ((b - a)*t + a + b)/2\n",
    "    c = [0.2369268850, 0.4786286705, 0.5688888889, 0.4786286705, 0.2369268850]\n",
    "    r = [0.9061798459, 0.5384693101, 0.0000000000, -0.5384693101, -0.9061798459]\n",
    "    return ((b-a)/2)*sum(c[i]*f(x(r[i])) for i in range(5))\n",
    "gauss=0\n",
    "for i in range(1, n+1):                    #Se alcula la cuadratura gaussiana para cada subintervalo.\n",
    "    gauss=gauss+gauss_quad_5(np.cos, x[i-1], x[i])\n",
    "print(gauss)"
   ]
  },
  {
   "cell_type": "code",
   "execution_count": null,
   "id": "5755929e",
   "metadata": {},
   "outputs": [],
   "source": []
  }
 ],
 "metadata": {
  "kernelspec": {
   "display_name": "Python 3 (ipykernel)",
   "language": "python",
   "name": "python3"
  },
  "language_info": {
   "codemirror_mode": {
    "name": "ipython",
    "version": 3
   },
   "file_extension": ".py",
   "mimetype": "text/x-python",
   "name": "python",
   "nbconvert_exporter": "python",
   "pygments_lexer": "ipython3",
   "version": "3.9.6"
  }
 },
 "nbformat": 4,
 "nbformat_minor": 5
}
