{
 "cells": [
  {
   "cell_type": "markdown",
   "id": "57f3ca00",
   "metadata": {},
   "source": [
    "# Tarea 9.6"
   ]
  },
  {
   "cell_type": "markdown",
   "id": "60752e84",
   "metadata": {},
   "source": [
    "### Fabricio Vásquez Bustamante 17.993938-k"
   ]
  },
  {
   "cell_type": "markdown",
   "id": "efb3c7d9",
   "metadata": {},
   "source": [
    "Escriba un código que implemente una cuadratura gaussiana compuesta. Es decir, divide el rango de integración en n subintervalos y aplica una cuadratura gaussiana en cada uno"
   ]
  },
  {
   "cell_type": "code",
   "execution_count": 1,
   "id": "178d27db",
   "metadata": {},
   "outputs": [
    {
     "data": {
      "text/plain": [
       "0.8414709847660286"
      ]
     },
     "execution_count": 1,
     "metadata": {},
     "output_type": "execute_result"
    }
   ],
   "source": [
    "import numpy as np                  #Importamos Librerías.\n",
    "import matplotlib.pyplot as plt\n",
    "\n",
    "def gauss_quad_5_comp(f, rangomin, rangomax, n):\n",
    "    '''Esta función implementa una cuadratura gaussiana de orden 5 compuesta en la función \"f\" entregada,\n",
    "    para cierto intervalo \"[rangomin, rangomax]\" subdividido en \"n\" intervalos.'''\n",
    "    gauss=0                                    #Variable acumulativa.\n",
    "    h = (rangomax-rangomin)/n                  #Distancia entre cada intervalo.\n",
    "    x = np.arange((rangomax-rangomin)/h+1)*h   #Arreglo del intervalo subdividido.\n",
    "    def gauss_quad_5(f, a, b):                 #Cuadratura gaussiana de orden 5.\n",
    "        def x(t):\n",
    "            return ((b - a)*t + a + b)/2\n",
    "        c = [0.2369268850, 0.4786286705, 0.5688888889, 0.4786286705, 0.2369268850]\n",
    "        r = [0.9061798459, 0.5384693101, 0.0000000000, -0.5384693101, -0.9061798459]\n",
    "        return ((b-a)/2)*sum(c[i]*f(x(r[i])) for i in range(5))\n",
    "    for i in range(1, n+1):                    #Se alcula la cuadratura gaussiana para cada subintervalo.\n",
    "        gauss=gauss+gauss_quad_5(f, x[i-1], x[i])\n",
    "    return gauss\n",
    "\n",
    "gauss_quad_5_comp(np.cos,0, 1, 5)"
   ]
  },
  {
   "cell_type": "markdown",
   "id": "ad52f6e3",
   "metadata": {},
   "source": [
    "# Calificación: 7.0"
   ]
  }
 ],
 "metadata": {
  "kernelspec": {
   "display_name": "Python 3",
   "language": "python",
   "name": "python3"
  },
  "language_info": {
   "codemirror_mode": {
    "name": "ipython",
    "version": 3
   },
   "file_extension": ".py",
   "mimetype": "text/x-python",
   "name": "python",
   "nbconvert_exporter": "python",
   "pygments_lexer": "ipython3",
   "version": "3.8.5"
  }
 },
 "nbformat": 4,
 "nbformat_minor": 5
}
