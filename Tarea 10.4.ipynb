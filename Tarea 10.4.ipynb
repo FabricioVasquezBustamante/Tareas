{
 "cells": [
  {
   "cell_type": "markdown",
   "id": "98b59480",
   "metadata": {},
   "source": [
    "# Tarea 10.4"
   ]
  },
  {
   "cell_type": "markdown",
   "id": "ded3f416",
   "metadata": {},
   "source": [
    "### Fabricio Vásquez Bustamante 17.993.938-K"
   ]
  },
  {
   "cell_type": "markdown",
   "id": "7fef03e7",
   "metadata": {},
   "source": [
    "Calcule la siguiente integral\n",
    "\n",
    "$$\n",
    "\\int_1^\\infty dx\\,\\int_1^\\infty dy\\, \\frac{\\tan^{-1}(xy)}{y^2 (x^{3/2}+1)}\n",
    "$$\n",
    "\n",
    "**Pista:** La $\\tan^{-1}(x)$ tiende a una constante cuando $x \\rightarrow \\infty$ tal que al aislar la divergencia, se puede reemplazar por la constante."
   ]
  },
  {
   "cell_type": "code",
   "execution_count": 13,
   "id": "5dff7088",
   "metadata": {},
   "outputs": [
    {
     "data": {
      "text/plain": [
       "2.443593795327964"
      ]
     },
     "execution_count": 13,
     "metadata": {},
     "output_type": "execute_result"
    }
   ],
   "source": [
    "import numpy as np                #Importamos librerías.\n",
    "import matplotlib.pyplot as plt\n",
    "\n",
    "def simpson2(f, a, b, c, d, n, m):  #Función para la integral doble por el método de Simpson.\n",
    "    h = (b-a)/n\n",
    "    k = (d-c)/m\n",
    "    borde_x = 0\n",
    "    suma_x_par = 0\n",
    "    suma_x_impar = 0\n",
    "    for i in range(n+1):\n",
    "        x = a + i*h\n",
    "        borde_y = f(x, c) + f(x, d)\n",
    "        suma_y_par = sum(f(x, c + j*k) for j in range(2, m, 2))\n",
    "        suma_y_impar = sum(f(x, c + j*k) for j in range(1, m, 2))\n",
    "        simpson_y = borde_y + 2*suma_y_par + 4*suma_y_impar\n",
    "        if i == 0 or i == n:\n",
    "            borde_x += simpson_y\n",
    "        elif i%2 == 0:\n",
    "            suma_x_par += simpson_y\n",
    "        else:\n",
    "            suma_x_impar += simpson_y\n",
    "    resultado = borde_x + 2*suma_x_par + 4*suma_x_impar\n",
    "    \n",
    "    return h*k*resultado/9\n",
    "\n",
    "def faislada(x, y):                                   #Se aisla la divergencia\n",
    "    if x*y>1000:\n",
    "        return (np.pi/2)/((y**2)*((x**(3/2)+1)))      #La arcotangente tiende a pi/2 en infinito.\n",
    "    else:\n",
    "        return np.arctan((x*y))/((y**2)*((x**(3/2)+1)))\n",
    "\n",
    "simpson2(faislada, 1, 10000, 1, 10000, 10000, 10000) #Se toma como infinito los valores 1000, ya que\n",
    "#es un valor suficiente para llegar a la convergencia.\n",
    "#Se tarda un poco en llegar al resultado, pero se llega al resultado esperado."
   ]
  },
  {
   "cell_type": "markdown",
   "id": "cf71fac8",
   "metadata": {},
   "source": [
    "#### Otro intento"
   ]
  },
  {
   "cell_type": "markdown",
   "id": "a5bf5777",
   "metadata": {},
   "source": [
    "La $\\tan^{-1}(x)$ tiende a una $\\frac{\\pi}{2}$ cuando $x \\rightarrow \\infty$\n",
    "\n",
    "\n",
    "como es una integral indefinida podemos hacer un cambio de variable de la forma:\n",
    "\n",
    "$$\n",
    "\\int_a^{\\infty}dx\\,f(x) = \\int_{0}^{1/a}dy\\,\\frac{f(1/y)}{y^2}\n",
    "$$\n",
    "Quedando:\n",
    "$$\n",
    "\\int_1^\\infty dx\\,\\int_1^\\infty dy\\, \\frac{\\tan^{-1}(xy)}{y^2 (x^{3/2}+1)} = \\int_0^{1/1} dx\\,\\int_0^{1/1} dy\\, \\frac{\\tan^{-1}(\\frac{1}{xy})}{x^{2}y^{2}\\frac{1}{{y}^2} (\\frac{1}{{x}^{3/2}}+1)}= \\int_0^{1} dx\\,\\int_0^{1} dy\\, \\frac{\\tan^{-1}(\\frac{1}{xy})}{{x}^{1/2}+x^{2}}  \n",
    "$$\n",
    "Esta integral converge si $\\frac{\\tan^{-1}(\\frac{1}{xy})}{\\frac{1}{{y}^2} (\\frac{1}{{x}^{3/2}}+1)} \\approx z^p$ cuando $z$ se acerca a $0$, para $p > 1$."
   ]
  },
  {
   "cell_type": "code",
   "execution_count": 3,
   "id": "5da5bbbe",
   "metadata": {},
   "outputs": [
    {
     "data": {
      "text/plain": [
       "2.3425834709732682"
      ]
     },
     "execution_count": 3,
     "metadata": {},
     "output_type": "execute_result"
    }
   ],
   "source": [
    "def faislada2(x, y): #Se aisla la divergencia en 0\n",
    "    if x<0.001 or y<0.001:\n",
    "        return 0     #La función tienende a 0 cuando se evalua en 0.\n",
    "    else:\n",
    "        return np.arctan(1/(x*y))/(x**(1/2)+x**2)\n",
    "simpson2(faislada2, 0, 1, 0, 1, 1000, 1000)\n",
    "#También se tarda un poco en llegar al resultado."
   ]
  },
  {
   "cell_type": "markdown",
   "id": "3315fd33",
   "metadata": {},
   "source": [
    "#### Comparando con scipy"
   ]
  },
  {
   "cell_type": "code",
   "execution_count": 16,
   "id": "6dbe5d39",
   "metadata": {},
   "outputs": [
    {
     "data": {
      "text/plain": [
       "(2.405960840851623, 8.191651523770105e-09)"
      ]
     },
     "execution_count": 16,
     "metadata": {},
     "output_type": "execute_result"
    }
   ],
   "source": [
    "from scipy import integrate  #importamos integrate de scipy.\n",
    "\n",
    "def f(x, y): #definimos la funcion a integrar.\n",
    "    return np.arctan((x*y))/((y**2)*((x**(3/2)+1)))\n",
    "\n",
    "integrate.nquad(f, [[1, np.inf],[1, np.inf]]) #integramos"
   ]
  },
  {
   "cell_type": "code",
   "execution_count": 17,
   "id": "8f6686af",
   "metadata": {},
   "outputs": [
    {
     "data": {
      "text/plain": [
       "(2.405993246443858, 2.9375664799473747e-06)"
      ]
     },
     "execution_count": 17,
     "metadata": {},
     "output_type": "execute_result"
    }
   ],
   "source": [
    "integrate.nquad(faislada, [[1, np.inf],[1, np.inf]]) #Integramos la primera función aislada."
   ]
  },
  {
   "cell_type": "code",
   "execution_count": 18,
   "id": "56215617",
   "metadata": {},
   "outputs": [
    {
     "data": {
      "text/plain": [
       "(2.3066262842464615, 1.4701637777858203e-08)"
      ]
     },
     "execution_count": 18,
     "metadata": {},
     "output_type": "execute_result"
    }
   ],
   "source": [
    "integrate.nquad(faislada2, [[0, 1],[0, 1]]) #Integramos la segunda función aislada."
   ]
  },
  {
   "cell_type": "markdown",
   "id": "60e101cd",
   "metadata": {},
   "source": [
    "# Calificación: 5.0"
   ]
  },
  {
   "cell_type": "markdown",
   "id": "570497df",
   "metadata": {},
   "source": [
    "No se separó la divergencia como se pedía. De hecho se obtuvo un error mucho mayor del esperado (del orden del 1\\%)"
   ]
  }
 ],
 "metadata": {
  "kernelspec": {
   "display_name": "Python 3",
   "language": "python",
   "name": "python3"
  },
  "language_info": {
   "codemirror_mode": {
    "name": "ipython",
    "version": 3
   },
   "file_extension": ".py",
   "mimetype": "text/x-python",
   "name": "python",
   "nbconvert_exporter": "python",
   "pygments_lexer": "ipython3",
   "version": "3.8.5"
  }
 },
 "nbformat": 4,
 "nbformat_minor": 5
}
