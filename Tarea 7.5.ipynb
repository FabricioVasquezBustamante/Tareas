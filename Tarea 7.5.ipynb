{
 "cells": [
  {
   "cell_type": "markdown",
   "id": "4aa9340f",
   "metadata": {},
   "source": [
    "# Tarea 7.5"
   ]
  },
  {
   "cell_type": "markdown",
   "id": "66d7c907",
   "metadata": {},
   "source": [
    "### Fabricio Vásquez Bustamante 17.993938-K"
   ]
  },
  {
   "cell_type": "markdown",
   "id": "67841763",
   "metadata": {},
   "source": [
    "Intente escribir su propia versión del método de Newton, haciéndola lo más rápida posible. Luego compare el tiempo que tarda en resolver el ejemplo de clase (el cero de la función $f(x) = x - \\cos(x)$) con el tiempo que tarda el método de Newton que se encuentra en scipy."
   ]
  },
  {
   "cell_type": "code",
   "execution_count": 149,
   "id": "fe8d7392",
   "metadata": {},
   "outputs": [
    {
     "name": "stdout",
     "output_type": "stream",
     "text": [
      "Para la función f(x)=x-cos(x) se calculará para que valor de x f(x)=0, a partir del valor inicial 10000\n",
      "El método visto en clases llegó al cero: 0.7390851332151607 tras 164 iteraciones y tardó: 0.0009624958038330078 segundos\n",
      "El método ligeramente modificado llegó al cero: 0.7390851332151607 tras 164 intentos y tardó: 0.0009758472442626953 segundos\n",
      "El método de newton considerando la segunda derivada llegó al cero: 0.7390851332151607 tras 359 intentos y tardó: 0.0039196014404296875 segundos\n",
      "El método de Newton de la librería Scipy llga al cero: 0.7390851332151607 tras 0.0009624958038330078 segundos\n"
     ]
    }
   ],
   "source": [
    "import numpy as np                                 #Importamos librerías.\n",
    "import matplotlib.pyplot as plt\n",
    "from scipy import optimize\n",
    "from time import time\n",
    "\n",
    "def newton1(f, df, po, epsilon, N=1000000):        #Método de Newton visto en clases.\n",
    "    t=time()\n",
    "    for i in range(N):\n",
    "        p=po-f(po)/df(po)\n",
    "        if abs(p-po)/abs(p)<epsilon:\n",
    "            return p, i+1, time()-t\n",
    "        po=p\n",
    "    raise MaxIterations(\"No se encontró el cero luego de\", N, \"iteraciones.\")\n",
    "\n",
    "def newton2(f, df, po, epsilon, N=1000000):   #Método de Newton modificado ligeramente el código amterior\n",
    "    t=time()                                  #tal que se realiza una operación menos por iteración.\n",
    "    for i in range(N):\n",
    "        p= po-f(po)/df(po)\n",
    "        if abs((p-po)/p)<epsilon:\n",
    "            return p, i+1, time()-t\n",
    "        po=p\n",
    "    raise MaxIterations(\"No se encontró el cero luego de\", N, \"iteraciones.\") \n",
    "\n",
    "def newton3(f, df, d2f, po, epsilon, N=1000000):    #Metodo de Newton considerando la segunda derivada.\n",
    "    t=time()\n",
    "    for i in range(N):\n",
    "        p=po-(f(po)*df(po))/((df(po))**2-df(po)*d2f(po))\n",
    "        if abs((p-po)/p)<epsilon:\n",
    "            return p, i+1, time()-t\n",
    "        po=p \n",
    "    raise MaxIterations(\"No se encontró el cero luego de\", N, \"iteraciones.\")\n",
    "    \n",
    "def f(x):                                      #Función objetivo de la cual se encontrará su valor nulo.\n",
    "    return x - np.cos(x)\n",
    "def df(x):                                     #Derivada de esta función.\n",
    "    return 1 + np.sin(x)\n",
    "def d2f(x):                                    #Segunda derivada de esta función.\n",
    "    return np.cos(x)\n",
    "v=10000 #Valor inicial, se escogio un valor alto dado que mi computador aveces procesaba muy rápido\n",
    "        #los datos sin poder apreciar una diferencia notable entre cada métoodo, reitero, sólo aveces.\n",
    "        #Favor de modificar \"v\" si así lo desea.\n",
    "\n",
    "print('Para la función f(x)=x-cos(x) se calculará para que valor de x f(x)=0, a partir del valor inicial',\n",
    "      v)\n",
    "#Se usa el método de newton usado en clases.\n",
    "n1=newton1(f, df, v, 0.000000000000000000000001)\n",
    "print('El método visto en clases llegó al cero:', n1[0],'tras', n1[1], 'iteraciones y tardó:', n1[2],\n",
    "      'segundos')\n",
    "\n",
    "#Se usa el método de newton modificado levemente.\n",
    "n2=newton2(f, df, v, 0.000000000000000000000001)\n",
    "print('El método ligeramente modificado llegó al cero:', n2[0], 'tras', n2[1], 'intentos y tardó:',n2[2],\n",
    "      'segundos')     \n",
    "\n",
    "#Se usa el método de newton con segunda derivada.\n",
    "n3=newton3(f, df, d2f, v, 0.000000000000000000000001)\n",
    "print('El método de newton considerando la segunda derivada llegó al cero:', n3[0], 'tras',n3[1],\n",
    "      'intentos y tardó:', n3[2], 'segundos')     \n",
    "\n",
    "t=time()                       #Se guarda el tiempo antes de realizar el siguiente calculo.\n",
    "n4=optimize.newton(f, v)       #Se usa método de newton incluido en la librería de scipy.\n",
    "t4=time()-t               #Se calcula el tiempo de que tardo en realizar la operación anterior.\n",
    "print('El método de Newton de la librería Scipy llga al cero:', n4, 'tras', t4, 'segundos')\n",
    "\n",
    "#cabe destacar que mi computador se tarda muy poco tiempo en realizar estos calculos, por lo que\n",
    "#se escogio un valores inicial \"v\" bastante alto para apreciar una diferencia en los tiempos de\n",
    "#ejecución de cada método\n"
   ]
  },
  {
   "cell_type": "code",
   "execution_count": null,
   "id": "47d2e181",
   "metadata": {},
   "outputs": [],
   "source": []
  },
  {
   "cell_type": "code",
   "execution_count": null,
   "id": "812896c5",
   "metadata": {},
   "outputs": [],
   "source": []
  },
  {
   "cell_type": "code",
   "execution_count": null,
   "id": "9e526cc7",
   "metadata": {},
   "outputs": [],
   "source": []
  }
 ],
 "metadata": {
  "kernelspec": {
   "display_name": "Python 3 (ipykernel)",
   "language": "python",
   "name": "python3"
  },
  "language_info": {
   "codemirror_mode": {
    "name": "ipython",
    "version": 3
   },
   "file_extension": ".py",
   "mimetype": "text/x-python",
   "name": "python",
   "nbconvert_exporter": "python",
   "pygments_lexer": "ipython3",
   "version": "3.9.6"
  }
 },
 "nbformat": 4,
 "nbformat_minor": 5
}
