{
 "cells": [
  {
   "cell_type": "markdown",
   "id": "e90e511e",
   "metadata": {},
   "source": [
    "# Tarea 2.8"
   ]
  },
  {
   "cell_type": "markdown",
   "id": "ce09c3ee",
   "metadata": {},
   "source": [
    "### Fabricio Vásquez Bustamante 17.993.938-K"
   ]
  },
  {
   "cell_type": "markdown",
   "id": "1d842da8",
   "metadata": {},
   "source": [
    "Use la serie de Taylor del seno para calcular $\\sin(2)$ con un error relativo menor que $0.01$."
   ]
  },
  {
   "cell_type": "code",
   "execution_count": 3,
   "id": "7484c1e5",
   "metadata": {},
   "outputs": [
    {
     "name": "stdout",
     "output_type": "stream",
     "text": [
      "Se Obtuvo la función Seno(2)= 0.9079365079365079 luego de sumar 4 términos de su serie de Taylor, con un error absoluto de 0.001360918889173779 y un error relativo de 0.0014966707801260235\n"
     ]
    }
   ],
   "source": [
    "import numpy as np\n",
    "n=0 #Contador\n",
    "s=0 #Acumulador\n",
    "f=1 #Factorial\n",
    "error=1\n",
    "while error > 0.01:\n",
    "    s=s+(2**(2*n+1)*(-1)**n)/f  #Se añade y calcula el término impar de la serie de Taylor de Sen(2)\n",
    "    n=n+1                       #se añade 1 al contador\n",
    "    f=f*(2*n+1)*(2*n)           #Se calcula el Factorial que se usará en la próximo ciclo, añadiéndole el termino par omitido por programa debido a la imparidad de la función seno.\n",
    "    error=np.abs(s-np.sin(2))      #Error relativo, si este es mayor a 0.01 el programa sumará un nuevo término de la función Seno.\n",
    "print('Se Obtuvo la función Seno(2)=', s, 'luego de sumar', n ,'términos de su serie de Taylor, con un error absoluto de', error, 'y un error relativo de', error/np.abs(np.sin(2)))"
   ]
  },
  {
   "cell_type": "markdown",
   "id": "07099a02",
   "metadata": {},
   "source": [
    "# Calificación: 7.0"
   ]
  }
 ],
 "metadata": {
  "kernelspec": {
   "display_name": "Python 3",
   "language": "python",
   "name": "python3"
  },
  "language_info": {
   "codemirror_mode": {
    "name": "ipython",
    "version": 3
   },
   "file_extension": ".py",
   "mimetype": "text/x-python",
   "name": "python",
   "nbconvert_exporter": "python",
   "pygments_lexer": "ipython3",
   "version": "3.8.5"
  }
 },
 "nbformat": 4,
 "nbformat_minor": 5
}
