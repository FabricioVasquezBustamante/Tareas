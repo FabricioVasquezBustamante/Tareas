{
 "cells": [
  {
   "cell_type": "markdown",
   "id": "b663c3a3",
   "metadata": {},
   "source": [
    "# Tarea 1.8"
   ]
  },
  {
   "cell_type": "markdown",
   "id": "9c21cfa9",
   "metadata": {},
   "source": [
    "### Fabricio Vásquez Bustamante 17.993.938-K"
   ]
  },
  {
   "cell_type": "markdown",
   "id": "3f9980ec",
   "metadata": {},
   "source": [
    "Escriba un código que sea un loop infinito. En cada paso el código le pide al usuario que escriba algo y cuando el usuario escribe \"salir\" el código termina. Si el usuario escribe otra cosa el código no hace nada y sencillamente vuelve a pedirde al usuario que escriba algo."
   ]
  },
  {
   "cell_type": "code",
   "execution_count": 1,
   "id": "830587aa",
   "metadata": {},
   "outputs": [
    {
     "name": "stdout",
     "output_type": "stream",
     "text": [
      "Por favor escriba algo\n",
      "x=a\n",
      "a\n",
      "Por favor escriba algo\n",
      "x=hola\n",
      "hola\n",
      "Por favor escriba algo\n",
      "x=como estás?\n",
      "como estás?\n",
      "Por favor escriba algo\n",
      "x=me aburí\n",
      "me aburí\n",
      "Por favor escriba algo\n",
      "x=salir\n",
      "salir\n",
      "Usted ha salido del programa\n"
     ]
    }
   ],
   "source": [
    "#Este código le pedirá al usuario escribir algo, esto lo hará indefinidamente hasta que se ingrese una de las siguientes\n",
    "#palabras \"salir\", \"Salir\" o \"SALIR\", en cualesquiera de dichos casos el progrma dejará de ejecutarse.\n",
    "while True:                                     #Ciclo infito que solo se romperá con el comando \"break\".\n",
    "    print('Por favor escriba algo')             #Se le solicita al usuario ingresar un texto.\n",
    "    x=str(input(\"x=\"))                          #El texto ingresado se guardará en la variable \"x\".\n",
    "    print(x)                                  #Se muestra en pantalla el texto ingresado.\n",
    "    if x=='salir' or x=='Salir' or x=='SALIR':       #Si el usuario escribe \"salir\", \"Salir\" o \"SALIR\", \n",
    "        print('Usted ha salido del programa')        #se le notificará al usuario que ha salido del programa, \n",
    "        break                                        #esta acción se realiza mediante el comando \"break\"\n",
    "    #Si no se escribe una de las variables de \"salir\" el código se volverá a repetir,\n",
    "    #pidiéndole al usuario que vuelva a escribir algo."
   ]
  },
  {
   "cell_type": "markdown",
   "id": "52058571",
   "metadata": {},
   "source": [
    "# Calificación: 7.0"
   ]
  },
  {
   "cell_type": "markdown",
   "id": "a518e3de",
   "metadata": {},
   "source": [
    "Demasiados comentarios. Pero es mejor comentar más que menos."
   ]
  }
 ],
 "metadata": {
  "kernelspec": {
   "display_name": "Python 3",
   "language": "python",
   "name": "python3"
  },
  "language_info": {
   "codemirror_mode": {
    "name": "ipython",
    "version": 3
   },
   "file_extension": ".py",
   "mimetype": "text/x-python",
   "name": "python",
   "nbconvert_exporter": "python",
   "pygments_lexer": "ipython3",
   "version": "3.8.5"
  }
 },
 "nbformat": 4,
 "nbformat_minor": 5
}
